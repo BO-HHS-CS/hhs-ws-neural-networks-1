{
 "cells": [
  {
   "cell_type": "code",
   "execution_count": 1,
   "id": "13dcce0b-a735-4689-b16e-a26eb50b7bd1",
   "metadata": {
    "execution": {
     "iopub.execute_input": "2023-10-10T10:41:01.640025Z",
     "iopub.status.busy": "2023-10-10T10:41:01.639593Z",
     "iopub.status.idle": "2023-10-10T10:41:03.313119Z",
     "shell.execute_reply": "2023-10-10T10:41:03.312747Z",
     "shell.execute_reply.started": "2023-10-10T10:41:01.639974Z"
    },
    "tags": []
   },
   "outputs": [],
   "source": [
    "import matplotlib.pyplot as plt\n",
    "import numpy as np\n",
    "import random\n",
    "from ipywidgets import interact, interactive, fixed, interact_manual\n",
    "import ipywidgets as widgets\n",
    "from sklearn.metrics import mean_squared_error"
   ]
  },
  {
   "cell_type": "markdown",
   "id": "9c9bad7a-6936-4ccd-a197-678a95af85ab",
   "metadata": {},
   "source": [
    "### Generates synthetic data"
   ]
  },
  {
   "cell_type": "code",
   "execution_count": 2,
   "id": "e1d711c6-15e1-4a29-a815-b32de17bb0b2",
   "metadata": {
    "execution": {
     "iopub.execute_input": "2023-10-10T10:41:03.314036Z",
     "iopub.status.busy": "2023-10-10T10:41:03.313901Z",
     "iopub.status.idle": "2023-10-10T10:41:03.317557Z",
     "shell.execute_reply": "2023-10-10T10:41:03.317120Z",
     "shell.execute_reply.started": "2023-10-10T10:41:03.314027Z"
    },
    "tags": []
   },
   "outputs": [],
   "source": [
    "# Generate random data based around some function\n",
    "def generateData(func, samples=100, noise=1, lower=-5, upper=45):\n",
    "    x = np.random.uniform(lower, upper, samples)\n",
    "    vfunc = np.vectorize(func)\n",
    "    y = vfunc(x)\n",
    "    n = np.random.normal(0, noise, samples)\n",
    "    y = y+n\n",
    "    return x, y"
   ]
  },
  {
   "cell_type": "code",
   "execution_count": 3,
   "id": "25f58e2a-b73d-41e4-a6dc-86332a17062a",
   "metadata": {
    "execution": {
     "iopub.execute_input": "2023-10-10T10:41:03.318285Z",
     "iopub.status.busy": "2023-10-10T10:41:03.318179Z",
     "iopub.status.idle": "2023-10-10T10:41:03.320822Z",
     "shell.execute_reply": "2023-10-10T10:41:03.320522Z",
     "shell.execute_reply.started": "2023-10-10T10:41:03.318274Z"
    },
    "tags": []
   },
   "outputs": [],
   "source": [
    "# Plots a function\n",
    "def plotf(plot, func, samples=100, lower=-5, upper=45):\n",
    "    i = np.linspace(lower, upper, samples)\n",
    "    vfunc = np.vectorize(func)\n",
    "    plot.plot(i, vfunc(i), color='red')\n",
    "    plot.xlabel(\"x\")\n",
    "    plot.ylabel(\"y\")"
   ]
  },
  {
   "cell_type": "code",
   "execution_count": 4,
   "id": "be9c5489-f3c2-46b7-a6b8-7991cd724558",
   "metadata": {
    "execution": {
     "iopub.execute_input": "2023-10-10T10:41:03.322316Z",
     "iopub.status.busy": "2023-10-10T10:41:03.322146Z",
     "iopub.status.idle": "2023-10-10T10:41:03.326451Z",
     "shell.execute_reply": "2023-10-10T10:41:03.325794Z",
     "shell.execute_reply.started": "2023-10-10T10:41:03.322295Z"
    },
    "tags": []
   },
   "outputs": [],
   "source": [
    "# Returns a line drawing function based on input w: weight and b: bias.\n",
    "def wrap(w=1, b=0):\n",
    "    def line(x):\n",
    "        return w*x+b\n",
    "    return line"
   ]
  },
  {
   "cell_type": "markdown",
   "id": "e5e75861-a178-4bea-ac8d-dc545dc46476",
   "metadata": {},
   "source": [
    "# CoLab Activity 1"
   ]
  },
  {
   "cell_type": "markdown",
   "id": "560538ad-59b8-443e-a69a-19edc13dc366",
   "metadata": {},
   "source": [
    "### First Regression"
   ]
  },
  {
   "cell_type": "code",
   "execution_count": 15,
   "id": "715ee65d-991e-4e93-bf0a-1d75e571e322",
   "metadata": {
    "execution": {
     "iopub.execute_input": "2023-10-10T10:41:03.590955Z",
     "iopub.status.busy": "2023-10-10T10:41:03.590261Z",
     "iopub.status.idle": "2023-10-10T10:41:03.602372Z",
     "shell.execute_reply": "2023-10-10T10:41:03.600618Z",
     "shell.execute_reply.started": "2023-10-10T10:41:03.590838Z"
    },
    "tags": []
   },
   "outputs": [],
   "source": [
    "# First line\n",
    "def line(x):\n",
    "    return 3.48*x-13.76\n",
    "X, y = generateData(line, noise=10)"
   ]
  },
  {
   "cell_type": "code",
   "execution_count": 16,
   "id": "268d6c9b-1add-42cc-948e-d04018d06d1c",
   "metadata": {
    "execution": {
     "iopub.execute_input": "2023-10-10T10:41:03.890588Z",
     "iopub.status.busy": "2023-10-10T10:41:03.889766Z",
     "iopub.status.idle": "2023-10-10T10:41:03.906571Z",
     "shell.execute_reply": "2023-10-10T10:41:03.901932Z",
     "shell.execute_reply.started": "2023-10-10T10:41:03.890535Z"
    },
    "tags": []
   },
   "outputs": [],
   "source": [
    "def plotTheStuff(w = 1.0, b=0.0):\n",
    "    plt.scatter(X, y, alpha=0.5)\n",
    "    plotf(plt, wrap(w, b))\n",
    "    print(f\"Mean Squared Error = {mean_squared_error(y,wrap(w,b)(X)):.2f}\")\n",
    "    plt.show()"
   ]
  },
  {
   "cell_type": "code",
   "execution_count": 17,
   "id": "8859c389-63e8-4eb5-a098-9ec3d9244199",
   "metadata": {
    "execution": {
     "iopub.execute_input": "2023-10-10T10:41:04.249855Z",
     "iopub.status.busy": "2023-10-10T10:41:04.249390Z",
     "iopub.status.idle": "2023-10-10T10:41:04.351809Z",
     "shell.execute_reply": "2023-10-10T10:41:04.350571Z",
     "shell.execute_reply.started": "2023-10-10T10:41:04.249824Z"
    },
    "tags": []
   },
   "outputs": [
    {
     "data": {
      "application/vnd.jupyter.widget-view+json": {
       "model_id": "47bdbc59b11d49518855acca04cb8180",
       "version_major": 2,
       "version_minor": 0
      },
      "text/plain": [
       "interactive(children=(FloatSlider(value=1.0, description='w', max=11.0, min=-9.0), FloatSlider(value=0.0, desc…"
      ]
     },
     "metadata": {},
     "output_type": "display_data"
    },
    {
     "data": {
      "text/plain": [
       "<function __main__.plotTheStuff(w=1.0, b=0.0)>"
      ]
     },
     "execution_count": 17,
     "metadata": {},
     "output_type": "execute_result"
    }
   ],
   "source": [
    "widgets.interact(plotTheStuff, w=(-9,11,0.1), b=(-20,20,0.1))"
   ]
  },
  {
   "cell_type": "markdown",
   "id": "3708eace-d018-4424-8267-24714eaced2d",
   "metadata": {},
   "source": [
    "### Second Regression"
   ]
  },
  {
   "cell_type": "code",
   "execution_count": 18,
   "id": "1cf8c018-c4d1-4581-bb02-f28d3203899f",
   "metadata": {
    "execution": {
     "iopub.execute_input": "2023-09-26T20:47:39.674513Z",
     "iopub.status.busy": "2023-09-26T20:47:39.673077Z",
     "iopub.status.idle": "2023-09-26T20:47:39.684178Z",
     "shell.execute_reply": "2023-09-26T20:47:39.683192Z",
     "shell.execute_reply.started": "2023-09-26T20:47:39.674434Z"
    },
    "tags": []
   },
   "outputs": [],
   "source": [
    "def parabola(x):\n",
    "    return 2.23*x**2-63.8*x+1.5\n",
    "X, y = generateData(parabola, noise=100)"
   ]
  },
  {
   "cell_type": "code",
   "execution_count": 19,
   "id": "00432d5a-bcc8-418c-b0ac-7663309f09e0",
   "metadata": {
    "execution": {
     "iopub.execute_input": "2023-09-26T20:47:40.161780Z",
     "iopub.status.busy": "2023-09-26T20:47:40.160803Z",
     "iopub.status.idle": "2023-09-26T20:47:40.249686Z",
     "shell.execute_reply": "2023-09-26T20:47:40.249291Z",
     "shell.execute_reply.started": "2023-09-26T20:47:40.161731Z"
    },
    "tags": []
   },
   "outputs": [
    {
     "data": {
      "application/vnd.jupyter.widget-view+json": {
       "model_id": "6f35714179a94c579ae67cf467bcc577",
       "version_major": 2,
       "version_minor": 0
      },
      "text/plain": [
       "interactive(children=(FloatSlider(value=1.0, description='w', max=101.0, min=-99.0), FloatSlider(value=0.0, de…"
      ]
     },
     "metadata": {},
     "output_type": "display_data"
    },
    {
     "data": {
      "text/plain": [
       "<function __main__.plotTheStuff(w=1.0, b=0.0)>"
      ]
     },
     "execution_count": 19,
     "metadata": {},
     "output_type": "execute_result"
    }
   ],
   "source": [
    "widgets.interact(plotTheStuff, w=(-99,101,0.1), b=(-1500,1500,0.1))"
   ]
  },
  {
   "cell_type": "markdown",
   "id": "91fc50fb-fbf8-40a1-ac0e-4bedc2d0661a",
   "metadata": {},
   "source": [
    "# CoLab Activity 2"
   ]
  },
  {
   "cell_type": "code",
   "execution_count": 10,
   "id": "9b43fa2e-598a-4539-8659-4b2eaac456c2",
   "metadata": {
    "execution": {
     "iopub.execute_input": "2023-09-26T20:52:22.210716Z",
     "iopub.status.busy": "2023-09-26T20:52:22.209178Z",
     "iopub.status.idle": "2023-09-26T20:52:22.222556Z",
     "shell.execute_reply": "2023-09-26T20:52:22.220526Z",
     "shell.execute_reply.started": "2023-09-26T20:52:22.210653Z"
    },
    "tags": []
   },
   "outputs": [],
   "source": [
    "def ReLU(x):\n",
    "    return max(0,x)"
   ]
  },
  {
   "cell_type": "code",
   "execution_count": 11,
   "id": "ac6de84d-0090-4f02-822f-3f79165f5295",
   "metadata": {
    "execution": {
     "iopub.execute_input": "2023-09-26T20:52:22.456891Z",
     "iopub.status.busy": "2023-09-26T20:52:22.456324Z",
     "iopub.status.idle": "2023-09-26T20:52:22.470588Z",
     "shell.execute_reply": "2023-09-26T20:52:22.469847Z",
     "shell.execute_reply.started": "2023-09-26T20:52:22.456849Z"
    },
    "tags": []
   },
   "outputs": [],
   "source": [
    "def wrap2(w1=1, b1=0, f1=1, w2=1, b2=0, f2=1, w3=1, b3=0, f3=1, w4=1, b4=0, f4=1):\n",
    "    def mlp(x):\n",
    "        return f1*ReLU(w1*x+b1)+f2*ReLU(w2*x+b2)+f3*ReLU(w3*x+b3)+f4*ReLU(w4*x+b4)\n",
    "    return mlp"
   ]
  },
  {
   "cell_type": "code",
   "execution_count": 12,
   "id": "a7aa1b2c-8354-4d54-a149-454a6325b84d",
   "metadata": {
    "execution": {
     "iopub.execute_input": "2023-09-26T20:52:22.710154Z",
     "iopub.status.busy": "2023-09-26T20:52:22.709466Z",
     "iopub.status.idle": "2023-09-26T20:52:22.723830Z",
     "shell.execute_reply": "2023-09-26T20:52:22.722096Z",
     "shell.execute_reply.started": "2023-09-26T20:52:22.710105Z"
    },
    "tags": []
   },
   "outputs": [],
   "source": [
    "def quartic(x):\n",
    "    return (x+2.34)*(x-6.74)*(x-17.9)*(x-40.96)\n",
    "X, y = generateData(quartic, noise=10000)"
   ]
  },
  {
   "cell_type": "code",
   "execution_count": 13,
   "id": "3b26dc59-00db-49e3-a8a9-98135c573903",
   "metadata": {
    "execution": {
     "iopub.execute_input": "2023-09-26T20:52:23.015828Z",
     "iopub.status.busy": "2023-09-26T20:52:23.015294Z",
     "iopub.status.idle": "2023-09-26T20:52:23.032150Z",
     "shell.execute_reply": "2023-09-26T20:52:23.031085Z",
     "shell.execute_reply.started": "2023-09-26T20:52:23.015792Z"
    },
    "tags": []
   },
   "outputs": [],
   "source": [
    "def plotTheStuff(w1=1, b1=0, f1=1, w2=1, b2=0, f2=1, w3=1, b3=0, f3=1, w4=1, b4=0, f4=1):\n",
    "    plt.scatter(X, y, alpha=0.5)\n",
    "    plotf(plt, wrap2(w1, b1, f1, w2, b2, f2, w3, b3, f3, w4, b4, f4))\n",
    "    vmlp = np.vectorize(wrap2(w1, b1, f1, w2, b2, f2, w3, b3, f3, w4, b4, f4))\n",
    "    print(f\"Mean Squared Error = {mean_squared_error(y,vmlp(X)):.2f}\")\n",
    "    plt.show()"
   ]
  },
  {
   "cell_type": "code",
   "execution_count": 14,
   "id": "c7bbcfe4-5eee-4051-b3b6-c655dd688399",
   "metadata": {
    "execution": {
     "iopub.execute_input": "2023-09-26T20:52:23.788800Z",
     "iopub.status.busy": "2023-09-26T20:52:23.788012Z",
     "iopub.status.idle": "2023-09-26T20:52:23.890651Z",
     "shell.execute_reply": "2023-09-26T20:52:23.890288Z",
     "shell.execute_reply.started": "2023-09-26T20:52:23.788687Z"
    },
    "tags": []
   },
   "outputs": [
    {
     "data": {
      "application/vnd.jupyter.widget-view+json": {
       "model_id": "2e376944b3434763b58541890894ca5c",
       "version_major": 2,
       "version_minor": 0
      },
      "text/plain": [
       "interactive(children=(IntSlider(value=1, description='w1', max=15000, min=-15000), IntSlider(value=0, descript…"
      ]
     },
     "metadata": {},
     "output_type": "display_data"
    },
    {
     "data": {
      "text/plain": [
       "<function __main__.plotTheStuff(w1=1, b1=0, f1=1, w2=1, b2=0, f2=1, w3=1, b3=0, f3=1, w4=1, b4=0, f4=1)>"
      ]
     },
     "execution_count": 14,
     "metadata": {},
     "output_type": "execute_result"
    }
   ],
   "source": [
    "widgets.interact(plotTheStuff, w1=(-15000,15000,1), b1=(-2000000,2000000,1), f1=(-1.5,1.5,0.1), w2=(-15000,15000,1), b2=(-2000000,2000000,1), f2=(-1.5,1.5,0.1), w3=(-15000,15000,1), b3=(-2000000,2000000,1), f3=(-1.5,1.5,0.1), w4=(-15000,15000,1), b4=(-2000000,2000000,1), f4=(-1.5,1.5,0.1))"
   ]
  },
  {
   "cell_type": "code",
   "execution_count": null,
   "id": "622eee67-cc67-491c-973a-8810d6de61e2",
   "metadata": {},
   "outputs": [],
   "source": []
  }
 ],
 "metadata": {
  "kernelspec": {
   "display_name": "Python 3 (ipykernel)",
   "language": "python",
   "name": "python3"
  },
  "language_info": {
   "codemirror_mode": {
    "name": "ipython",
    "version": 3
   },
   "file_extension": ".py",
   "mimetype": "text/x-python",
   "name": "python",
   "nbconvert_exporter": "python",
   "pygments_lexer": "ipython3",
   "version": "3.9.15"
  }
 },
 "nbformat": 4,
 "nbformat_minor": 5
}
