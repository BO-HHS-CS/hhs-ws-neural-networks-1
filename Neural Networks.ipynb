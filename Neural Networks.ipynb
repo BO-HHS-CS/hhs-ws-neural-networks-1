{
 "cells": [
  {
   "cell_type": "code",
   "execution_count": 1,
   "id": "13dcce0b-a735-4689-b16e-a26eb50b7bd1",
   "metadata": {
    "execution": {
     "iopub.execute_input": "2023-09-19T14:14:43.878774Z",
     "iopub.status.busy": "2023-09-19T14:14:43.878278Z",
     "iopub.status.idle": "2023-09-19T14:14:44.543650Z",
     "shell.execute_reply": "2023-09-19T14:14:44.543320Z",
     "shell.execute_reply.started": "2023-09-19T14:14:43.878732Z"
    },
    "tags": []
   },
   "outputs": [],
   "source": [
    "import matplotlib.pyplot as plt\n",
    "import numpy as np\n",
    "import random\n",
    "from ipywidgets import interact, interactive, fixed, interact_manual\n",
    "import ipywidgets as widgets\n",
    "from sklearn.metrics import mean_squared_error"
   ]
  },
  {
   "cell_type": "markdown",
   "id": "9c9bad7a-6936-4ccd-a197-678a95af85ab",
   "metadata": {},
   "source": [
    "### Generates synthetic data"
   ]
  },
  {
   "cell_type": "code",
   "execution_count": 2,
   "id": "e1d711c6-15e1-4a29-a815-b32de17bb0b2",
   "metadata": {
    "execution": {
     "iopub.execute_input": "2023-09-19T14:14:46.039400Z",
     "iopub.status.busy": "2023-09-19T14:14:46.038588Z",
     "iopub.status.idle": "2023-09-19T14:14:46.053866Z",
     "shell.execute_reply": "2023-09-19T14:14:46.052802Z",
     "shell.execute_reply.started": "2023-09-19T14:14:46.039356Z"
    },
    "tags": []
   },
   "outputs": [],
   "source": [
    "def generateData(func, samples=100, noise=1, lower=-5, upper=45):\n",
    "    x = np.random.uniform(lower, upper, samples)\n",
    "    vfunc = np.vectorize(func)\n",
    "    y = vfunc(x)\n",
    "    n = np.random.normal(0, noise, samples)\n",
    "    y = y+n\n",
    "    return x, y"
   ]
  },
  {
   "cell_type": "code",
   "execution_count": 3,
   "id": "25f58e2a-b73d-41e4-a6dc-86332a17062a",
   "metadata": {
    "execution": {
     "iopub.execute_input": "2023-09-19T14:14:46.924739Z",
     "iopub.status.busy": "2023-09-19T14:14:46.923731Z",
     "iopub.status.idle": "2023-09-19T14:14:46.935945Z",
     "shell.execute_reply": "2023-09-19T14:14:46.935003Z",
     "shell.execute_reply.started": "2023-09-19T14:14:46.924678Z"
    },
    "tags": []
   },
   "outputs": [],
   "source": [
    "def plotf(plot, func, samples=100, lower=-5, upper=45):\n",
    "    i = np.linspace(lower, upper, samples)\n",
    "    vfunc = np.vectorize(func)\n",
    "    plot.plot(i, vfunc(i), color='red')\n",
    "    plot.xlabel(\"x\")\n",
    "    plot.ylabel(\"y\")"
   ]
  },
  {
   "cell_type": "code",
   "execution_count": 4,
   "id": "be9c5489-f3c2-46b7-a6b8-7991cd724558",
   "metadata": {
    "execution": {
     "iopub.execute_input": "2023-09-19T14:14:47.550061Z",
     "iopub.status.busy": "2023-09-19T14:14:47.549230Z",
     "iopub.status.idle": "2023-09-19T14:14:47.559350Z",
     "shell.execute_reply": "2023-09-19T14:14:47.557715Z",
     "shell.execute_reply.started": "2023-09-19T14:14:47.550020Z"
    },
    "tags": []
   },
   "outputs": [],
   "source": [
    "def wrap(w=1, b=0):\n",
    "    def line(x):\n",
    "        return w*x+b\n",
    "    return line"
   ]
  },
  {
   "cell_type": "markdown",
   "id": "e5e75861-a178-4bea-ac8d-dc545dc46476",
   "metadata": {},
   "source": [
    "# CoLab Activity 1"
   ]
  },
  {
   "cell_type": "markdown",
   "id": "560538ad-59b8-443e-a69a-19edc13dc366",
   "metadata": {},
   "source": [
    "### First Regression"
   ]
  },
  {
   "cell_type": "code",
   "execution_count": 5,
   "id": "715ee65d-991e-4e93-bf0a-1d75e571e322",
   "metadata": {
    "execution": {
     "iopub.execute_input": "2023-09-19T14:14:50.028878Z",
     "iopub.status.busy": "2023-09-19T14:14:50.028204Z",
     "iopub.status.idle": "2023-09-19T14:14:50.034769Z",
     "shell.execute_reply": "2023-09-19T14:14:50.033801Z",
     "shell.execute_reply.started": "2023-09-19T14:14:50.028845Z"
    },
    "tags": []
   },
   "outputs": [],
   "source": [
    "def line(x):\n",
    "    return 3.48*x-13.76\n",
    "X, y = generateData(line, noise=10)"
   ]
  },
  {
   "cell_type": "code",
   "execution_count": 6,
   "id": "268d6c9b-1add-42cc-948e-d04018d06d1c",
   "metadata": {
    "execution": {
     "iopub.execute_input": "2023-09-19T14:14:50.565498Z",
     "iopub.status.busy": "2023-09-19T14:14:50.563642Z",
     "iopub.status.idle": "2023-09-19T14:14:50.574705Z",
     "shell.execute_reply": "2023-09-19T14:14:50.573748Z",
     "shell.execute_reply.started": "2023-09-19T14:14:50.565393Z"
    },
    "tags": []
   },
   "outputs": [],
   "source": [
    "def plotTheStuff(w = 1.0, b=0.0):\n",
    "    plt.scatter(X, y, alpha=0.5)\n",
    "    plotf(plt, wrap(w, b))\n",
    "    print(f\"Mean Squared Error = {mean_squared_error(y,wrap(w,b)(X)):.2f}\")"
   ]
  },
  {
   "cell_type": "code",
   "execution_count": 8,
   "id": "8859c389-63e8-4eb5-a098-9ec3d9244199",
   "metadata": {
    "execution": {
     "iopub.execute_input": "2023-09-19T14:15:00.710676Z",
     "iopub.status.busy": "2023-09-19T14:15:00.709988Z",
     "iopub.status.idle": "2023-09-19T14:15:00.821772Z",
     "shell.execute_reply": "2023-09-19T14:15:00.821425Z",
     "shell.execute_reply.started": "2023-09-19T14:15:00.710622Z"
    },
    "tags": []
   },
   "outputs": [
    {
     "data": {
      "application/vnd.jupyter.widget-view+json": {
       "model_id": "8b5f1ca959404de386b102bdef142b70",
       "version_major": 2,
       "version_minor": 0
      },
      "text/plain": [
       "interactive(children=(FloatSlider(value=1.0, description='w', max=11.0, min=-9.0), FloatSlider(value=0.0, desc…"
      ]
     },
     "metadata": {},
     "output_type": "display_data"
    },
    {
     "data": {
      "text/plain": [
       "<function __main__.plotTheStuff(w=1.0, b=0.0)>"
      ]
     },
     "execution_count": 8,
     "metadata": {},
     "output_type": "execute_result"
    }
   ],
   "source": [
    "widgets.interact(plotTheStuff, w=(-9,11,0.1), b=(-20,20,0.1))"
   ]
  },
  {
   "cell_type": "markdown",
   "id": "3708eace-d018-4424-8267-24714eaced2d",
   "metadata": {},
   "source": [
    "### Second Regression"
   ]
  },
  {
   "cell_type": "code",
   "execution_count": 9,
   "id": "1cf8c018-c4d1-4581-bb02-f28d3203899f",
   "metadata": {
    "execution": {
     "iopub.execute_input": "2023-09-19T14:15:03.509101Z",
     "iopub.status.busy": "2023-09-19T14:15:03.508354Z",
     "iopub.status.idle": "2023-09-19T14:15:03.517925Z",
     "shell.execute_reply": "2023-09-19T14:15:03.516780Z",
     "shell.execute_reply.started": "2023-09-19T14:15:03.509047Z"
    },
    "tags": []
   },
   "outputs": [],
   "source": [
    "def parabola(x):\n",
    "    return 2.23*x**2-63.8*x+1.5\n",
    "X, y = generateData(parabola, noise=100)"
   ]
  },
  {
   "cell_type": "code",
   "execution_count": 11,
   "id": "00432d5a-bcc8-418c-b0ac-7663309f09e0",
   "metadata": {
    "execution": {
     "iopub.execute_input": "2023-09-19T14:15:12.937853Z",
     "iopub.status.busy": "2023-09-19T14:15:12.937143Z",
     "iopub.status.idle": "2023-09-19T14:15:13.015812Z",
     "shell.execute_reply": "2023-09-19T14:15:13.015518Z",
     "shell.execute_reply.started": "2023-09-19T14:15:12.937795Z"
    },
    "tags": []
   },
   "outputs": [
    {
     "data": {
      "application/vnd.jupyter.widget-view+json": {
       "model_id": "f4ad0ee686f4471395073a92b067a875",
       "version_major": 2,
       "version_minor": 0
      },
      "text/plain": [
       "interactive(children=(FloatSlider(value=1.0, description='w', max=101.0, min=-99.0), FloatSlider(value=0.0, de…"
      ]
     },
     "metadata": {},
     "output_type": "display_data"
    },
    {
     "data": {
      "text/plain": [
       "<function __main__.plotTheStuff(w=1.0, b=0.0)>"
      ]
     },
     "execution_count": 11,
     "metadata": {},
     "output_type": "execute_result"
    }
   ],
   "source": [
    "widgets.interact(plotTheStuff, w=(-99,101,0.1), b=(-1500,1500,0.1))"
   ]
  },
  {
   "cell_type": "markdown",
   "id": "91fc50fb-fbf8-40a1-ac0e-4bedc2d0661a",
   "metadata": {},
   "source": [
    "# CoLab Activity 2"
   ]
  },
  {
   "cell_type": "code",
   "execution_count": 27,
   "id": "9b43fa2e-598a-4539-8659-4b2eaac456c2",
   "metadata": {
    "execution": {
     "iopub.execute_input": "2023-09-19T14:23:48.918977Z",
     "iopub.status.busy": "2023-09-19T14:23:48.918106Z",
     "iopub.status.idle": "2023-09-19T14:23:48.927625Z",
     "shell.execute_reply": "2023-09-19T14:23:48.924757Z",
     "shell.execute_reply.started": "2023-09-19T14:23:48.918933Z"
    },
    "tags": []
   },
   "outputs": [],
   "source": [
    "def ReLU(x):\n",
    "    return max(0,x)"
   ]
  },
  {
   "cell_type": "code",
   "execution_count": 28,
   "id": "ac6de84d-0090-4f02-822f-3f79165f5295",
   "metadata": {
    "execution": {
     "iopub.execute_input": "2023-09-19T14:23:49.174189Z",
     "iopub.status.busy": "2023-09-19T14:23:49.173596Z",
     "iopub.status.idle": "2023-09-19T14:23:49.189689Z",
     "shell.execute_reply": "2023-09-19T14:23:49.188585Z",
     "shell.execute_reply.started": "2023-09-19T14:23:49.174155Z"
    },
    "tags": []
   },
   "outputs": [],
   "source": [
    "def wrap2(w1=1, b1=0, f1=1, w2=1, b2=0, f2=1, w3=1, b3=0, f3=1, w4=1, b4=0, f4=1):\n",
    "    def mlp(x):\n",
    "        return f1*ReLU(w1*x+b1)+f2*ReLU(w2*x+b2)+f3*ReLU(w3*x+b3)+f4*ReLU(w4*x+b4)\n",
    "    return mlp"
   ]
  },
  {
   "cell_type": "code",
   "execution_count": 29,
   "id": "a7aa1b2c-8354-4d54-a149-454a6325b84d",
   "metadata": {
    "execution": {
     "iopub.execute_input": "2023-09-19T14:23:49.389050Z",
     "iopub.status.busy": "2023-09-19T14:23:49.388179Z",
     "iopub.status.idle": "2023-09-19T14:23:49.398791Z",
     "shell.execute_reply": "2023-09-19T14:23:49.397587Z",
     "shell.execute_reply.started": "2023-09-19T14:23:49.388996Z"
    },
    "tags": []
   },
   "outputs": [],
   "source": [
    "def quartic(x):\n",
    "    return (x+2.34)*(x-6.74)*(x-17.9)*(x-40.96)\n",
    "X, y = generateData(quartic, noise=10000)"
   ]
  },
  {
   "cell_type": "code",
   "execution_count": 35,
   "id": "3b26dc59-00db-49e3-a8a9-98135c573903",
   "metadata": {
    "execution": {
     "iopub.execute_input": "2023-09-19T14:39:40.464758Z",
     "iopub.status.busy": "2023-09-19T14:39:40.463455Z",
     "iopub.status.idle": "2023-09-19T14:39:40.475092Z",
     "shell.execute_reply": "2023-09-19T14:39:40.474329Z",
     "shell.execute_reply.started": "2023-09-19T14:39:40.464677Z"
    },
    "tags": []
   },
   "outputs": [],
   "source": [
    "def plotTheStuff(w1=1, b1=0, f1=1, w2=1, b2=0, f2=1, w3=1, b3=0, f3=1, w4=1, b4=0, f4=1):\n",
    "    plt.scatter(X, y, alpha=0.5)\n",
    "    plotf(plt, wrap2(w1, b1, f1, w2, b2, f2, w3, b3, f3, w4, b4, f4))\n",
    "    vmlp = np.vectorize(wrap2(w1, b1, f1, w2, b2, f2, w3, b3, f3, w4, b4, f4))\n",
    "    print(f\"Mean Squared Error = {mean_squared_error(y,vmlp(X)):.2f}\")"
   ]
  },
  {
   "cell_type": "code",
   "execution_count": 36,
   "id": "c7bbcfe4-5eee-4051-b3b6-c655dd688399",
   "metadata": {
    "execution": {
     "iopub.execute_input": "2023-09-19T14:39:40.856104Z",
     "iopub.status.busy": "2023-09-19T14:39:40.855403Z",
     "iopub.status.idle": "2023-09-19T14:39:40.962507Z",
     "shell.execute_reply": "2023-09-19T14:39:40.962030Z",
     "shell.execute_reply.started": "2023-09-19T14:39:40.856053Z"
    },
    "tags": []
   },
   "outputs": [
    {
     "data": {
      "application/vnd.jupyter.widget-view+json": {
       "model_id": "9b604eacb54245a6a0ebadcb404d4292",
       "version_major": 2,
       "version_minor": 0
      },
      "text/plain": [
       "interactive(children=(IntSlider(value=1, description='w1', max=15000, min=-15000), IntSlider(value=0, descript…"
      ]
     },
     "metadata": {},
     "output_type": "display_data"
    },
    {
     "data": {
      "text/plain": [
       "<function __main__.plotTheStuff(w1=1, b1=0, f1=1, w2=1, b2=0, f2=1, w3=1, b3=0, f3=1, w4=1, b4=0, f4=1)>"
      ]
     },
     "execution_count": 36,
     "metadata": {},
     "output_type": "execute_result"
    }
   ],
   "source": [
    "widgets.interact(plotTheStuff, w1=(-15000,15000,1), b1=(-2000000,2000000,1), f1=(-1.5,1.5,0.1), w2=(-15000,15000,1), b2=(-2000000,2000000,1), f2=(-1.5,1.5,0.1), w3=(-15000,15000,1), b3=(-2000000,2000000,1), f3=(-1.5,1.5,0.1), w4=(-15000,15000,1), b4=(-2000000,2000000,1), f4=(-1.5,1.5,0.1))"
   ]
  },
  {
   "cell_type": "code",
   "execution_count": null,
   "id": "622eee67-cc67-491c-973a-8810d6de61e2",
   "metadata": {},
   "outputs": [],
   "source": []
  }
 ],
 "metadata": {
  "kernelspec": {
   "display_name": "Python 3 (ipykernel)",
   "language": "python",
   "name": "python3"
  },
  "language_info": {
   "codemirror_mode": {
    "name": "ipython",
    "version": 3
   },
   "file_extension": ".py",
   "mimetype": "text/x-python",
   "name": "python",
   "nbconvert_exporter": "python",
   "pygments_lexer": "ipython3",
   "version": "3.9.15"
  }
 },
 "nbformat": 4,
 "nbformat_minor": 5
}
